{
 "cells": [
  {
   "cell_type": "code",
   "execution_count": 2,
   "id": "6d8141a6",
   "metadata": {},
   "outputs": [
    {
     "name": "stdout",
     "output_type": "stream",
     "text": [
      "0.94177584245322540.90819779254033840.00.0"
     ]
    }
   ],
   "source": [
    "x=rand(2,2)\n",
    "x[1,2]=0\n",
    "x[2,2]=0\n",
    "for i in x\n",
    "    print(i)\n",
    "end\n"
   ]
  },
  {
   "cell_type": "code",
   "execution_count": 4,
   "id": "c770eb5a",
   "metadata": {},
   "outputs": [],
   "source": [
    "function ChecklineHor(a,k)\n",
    "    z=0\n",
    "    for i in 1:size(a)[2]\n",
    "        if a[k,i]==12345678\n",
    "            z+=1\n",
    "        end\n",
    "    end\n",
    "    if z==size(a)[2]\n",
    "        return 1\n",
    "    end\n",
    "    return 0\n",
    "end\n",
    "function ChecklineVer(a,k)\n",
    "    z=0\n",
    "    for i in 1:size(a)[1]\n",
    "        if a[i,k]==12345678\n",
    "            z+=1\n",
    "        end\n",
    "    end\n",
    "    if z==size(a)[1]\n",
    "        return 1\n",
    "    end\n",
    "    return 0\n",
    "end\n",
    "function CheckZeros(a)\n",
    "    for i in 1:size(a)[2]\n",
    "        if a[1,i]==12345678\n",
    "            if ChecklineVer(a,i)==1\n",
    "                return(1)\n",
    "            end\n",
    "        end\n",
    "    end\n",
    "    for j in 1:size(a)[1]\n",
    "        if a[j,1]==12345678\n",
    "            if ChecklineHor(a,j)==1\n",
    "                return(1)\n",
    "            end\n",
    "        end\n",
    "    end\n",
    "end\n",
    "\n",
    "function ReplaceZero(a,val)\n",
    "    for i in 1:size(a)[1]\n",
    "        for j in 1:size(a)[2]\n",
    "            if a[i,j]==val\n",
    "                a[i,j]=12345678\n",
    "            end\n",
    "        end\n",
    "    end\n",
    "end\n",
    "CheckZeros(zeros(5,5))"
   ]
  },
  {
   "cell_type": "code",
   "execution_count": null,
   "id": "a5b736eb",
   "metadata": {},
   "outputs": [],
   "source": [
    "function make_matrices(xd)\n",
    "    idx=1\n",
    "    while idx< size(make_matrices)"
   ]
  },
  {
   "cell_type": "code",
   "execution_count": 6,
   "id": "44978800",
   "metadata": {},
   "outputs": [
    {
     "name": "stdout",
     "output_type": "stream",
     "text": [
      "(15, 5)mamy zwyciezce, macierz numer 2\n",
      "wartość kończąca to: 50\n",
      "suma to:802\n",
      "40100"
     ]
    },
    {
     "data": {
      "text/plain": [
       "3-element Vector{Any}:\n",
       " [12345678 60 … 64 83; 35 41 … 55 12345678; … ; 12345678 23 … 12345678 21; 12345678 22 … 87 12345678]\n",
       " [77 12345678 … 21 76; 93 12345678 … 35 12345678; … ; 80 12345678 … 12345678 64; 39 12345678 … 56 12345678]\n",
       " [12345678 21 … 12345678 4; 12345678 16 … 9 19; … ; 22 12345678 … 6 5; 12345678 0 … 12345678 7]"
      ]
     },
     "execution_count": 6,
     "metadata": {},
     "output_type": "execute_result"
    }
   ],
   "source": [
    "matrices_raw=[91 60 70 64 83\n",
    "35 41 79 55 31\n",
    " 7 58 25  3 47\n",
    " 2 23 69 59 21\n",
    "11 22  8 87 90\n",
    "\n",
    "77 95 19 21 76\n",
    "93 92 62 35  3\n",
    " 4 29  7 41 45\n",
    "80 50 83 61 64\n",
    "39 32 91 56 48\n",
    "\n",
    "14 21 17 24  4\n",
    "10 16 15  9 19\n",
    "18  8 23 26 20\n",
    "22 11 13  6  5\n",
    " 2  0 12  3  7]\n",
    "print(size(matrices_raw))\n",
    "idx=1\n",
    "matrices=[]\n",
    "while idx < size(matrices_raw)[1]\n",
    "    push!(matrices, matrices_raw[idx:idx+4,:])\n",
    "    idx+=5\n",
    "end\n",
    "vals=[72,99,88,8,59,61,96,92,2,70,1,32,18,10,95,33,20,31,66,43,26,24,91,44,11,15,48,90,27,29,14,68,3,50,69,74,54,4,16,55,64,12,73,80,58,83,6,87,30,41,25,39,93,60,9,81,63,75,46,19,78,51,21,28,94,7,17,42,53,13,97,98,34,76,89,23,86,52,79,85,67,84,47,22,37,65,71,49,82,40,77,36,62,0,56,45,57,38,35,5]\n",
    "for val in vals\n",
    "    idx=0\n",
    "    for m in matrices\n",
    "        ReplaceZero(m, val)\n",
    "        idx+=1\n",
    "        check=CheckZeros(m)\n",
    "        if check ==1\n",
    "            print( \"mamy zwyciezce, macierz numer \")\n",
    "            print(idx, \"\\n\")\n",
    "            print( \"wartość kończąca to: \")\n",
    "            print(val)\n",
    "            final_sum=0\n",
    "            for i in 1:size(m)[1]\n",
    "                for j in 1:size(m)[2]\n",
    "                    if m[i,j]!=12345678\n",
    "                        final_sum+=m[i,j]\n",
    "                    end\n",
    "                end\n",
    "            end\n",
    "            print(\"\\nsuma to:\")\n",
    "            print(final_sum)\n",
    "            print(\"\\n\",final_sum*val)\n",
    "            return(1)\n",
    "        end\n",
    "    end\n",
    "end\n"
   ]
  },
  {
   "cell_type": "code",
   "execution_count": 46,
   "id": "37c90fee",
   "metadata": {},
   "outputs": [
    {
     "name": "stdout",
     "output_type": "stream",
     "text": [
      "(500, 5)388 49\n",
      "19012"
     ]
    }
   ],
   "source": [
    "matrices_raw=[]\n",
    "idx=1\n",
    "matrices=[]\n",
    "while idx < size(matrices_raw)[1]\n",
    "    push!(matrices, matrices_raw[idx:idx+4,:])\n",
    "    idx+=5\n",
    "end\n",
    "vals=[72,99,88,8,59,61,96,92,2,70,1,32,18,10,95,33,20,31,66,43,26,24,91,44,11,15,48,90,27,29,14,68,3,50,69,74,54,4,16,55,64,12,73,80,58,83,6,87,30,41,25,39,93,60,9,81,63,75,46,19,78,51,21,28,94,7,17,42,53,13,97,98,34,76,89,23,86,52,79,85,67,84,47,22,37,65,71,49,82,40,77,36,62,0,56,45,57,38,35,5]\n",
    "idx_val=1\n",
    "val_val=123456789\n",
    "matrix_final=[]\n",
    "for val in vals\n",
    "    idx=0\n",
    "    for m in matrices\n",
    "        ReplaceZero(m, val)\n",
    "        idx+=1\n",
    "        check=CheckZeros(m)\n",
    "        if check ==1\n",
    "            matrix_final=m\n",
    "            matrices[idx]=ones(5,5)*12345678910\n",
    "            val_val=val\n",
    "        end\n",
    "    end\n",
    "end\n",
    "final_sum=0\n",
    "for i in 1:size(matrix_final)[1]\n",
    "    for j in 1:size(matrix_final)[2]\n",
    "        if matrix_final[i,j]!=12345678\n",
    "            final_sum+=matrix_final[i,j]\n",
    "        end\n",
    "    end\n",
    "end\n",
    "print(final_sum,\" \",val_val, \"\\n\")\n",
    "print(final_sum*val_val)"
   ]
  }
 ],
 "metadata": {
  "kernelspec": {
   "display_name": "Julia 1.6.5",
   "language": "julia",
   "name": "julia-1.6"
  },
  "language_info": {
   "file_extension": ".jl",
   "mimetype": "application/julia",
   "name": "julia",
   "version": "1.6.5"
  }
 },
 "nbformat": 4,
 "nbformat_minor": 5
}
