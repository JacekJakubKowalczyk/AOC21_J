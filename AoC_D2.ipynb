{
 "cells": [
  {
   "cell_type": "code",
   "execution_count": 53,
   "id": "28fc51f9",
   "metadata": {},
   "outputs": [
    {
     "name": "stdout",
     "output_type": "stream",
     "text": [
      "10, \n",
      "5"
     ]
    }
   ],
   "source": [
    "string=\"forward 5 xd 8 lol 2\"\n",
    "string2=split(string2)\n",
    "i=1\n",
    "depth=0\n",
    "forward=0\n",
    "while i <length(string)\n",
    "    if string[i]==\"forward\"\n",
    "        forward=forward+parse(Int64,string[i+1])\n",
    "    elseif string[i]==\"up\"\n",
    "        depth=depth-parse(Int64,string[i+1])\n",
    "    else depth +=parse(Int64,string[i+1])\n",
    "    end\n",
    "    i=i+2\n",
    "end\n",
    "print(depth, \", \\n\")\n",
    "print(forward)\n"
   ]
  },
  {
   "cell_type": "code",
   "execution_count": 59,
   "id": "337f76f6",
   "metadata": {},
   "outputs": [
    {
     "name": "stdout",
     "output_type": "stream",
     "text": [
      "0, \n",
      "0"
     ]
    }
   ],
   "source": [
    "string2=\"XD 5\"\n",
    "string2=split(string2)\n",
    "i=1\n",
    "depth=0\n",
    "forward=0\n",
    "aim=0\n",
    "while i <length(string2)\n",
    "    if string2[i]==\"forward\"\n",
    "        forward=forward+parse(Int64,string2[i+1])\n",
    "        depth +=aim*parse(Int64,string2[i+1])\n",
    "    elseif string2[i]==\"up\"\n",
    "        aim=aim-parse(Int64,string2[i+1])\n",
    "    else aim +=parse(Int64,string2[i+1])\n",
    "    end\n",
    "    i=i+2\n",
    "end\n",
    "print(depth, \", \\n\")\n",
    "print(forward)"
   ]
  }
 ],
 "metadata": {
  "kernelspec": {
   "display_name": "Julia 1.6.5",
   "language": "julia",
   "name": "julia-1.6"
  },
  "language_info": {
   "file_extension": ".jl",
   "mimetype": "application/julia",
   "name": "julia",
   "version": "1.6.5"
  }
 },
 "nbformat": 4,
 "nbformat_minor": 5
}
