{
 "cells": [
  {
   "cell_type": "code",
   "execution_count": 49,
   "id": "196b3997",
   "metadata": {},
   "outputs": [
    {
     "name": "stdout",
     "output_type": "stream",
     "text": [
      "[1.0, 0.0, 0.0, 0.0, 1.0, 1.0, 1.0, 0.0, 0.0, 1.0, 0.0, 1.0]\n"
     ]
    }
   ],
   "source": [
    "x=\"010100010111\n",
    "100100100110\n",
    "100110111001\"\n",
    "x=split(x)\n",
    "z=zeros(length(x[1]))\n",
    "for i in 1:length(x)\n",
    "    for j in 1:length(x[1])\n",
    "        z[j]+=parse(Int64,x[i][j])\n",
    "    end\n",
    "end\n",
    "for i in 1:length(z)\n",
    "    if z[i]>length(x)/2\n",
    "        z[i]=1\n",
    "    else z[i]=0\n",
    "    end\n",
    "end\n",
    "print(z,\"\\n\")\n",
    "        "
   ]
  },
  {
   "cell_type": "code",
   "execution_count": 105,
   "id": "628849a6",
   "metadata": {},
   "outputs": [
    {
     "ename": "LoadError",
     "evalue": "BoundsError: attempt to access 0-element Vector{SubString{String}} at index [1]",
     "output_type": "error",
     "traceback": [
      "BoundsError: attempt to access 0-element Vector{SubString{String}} at index [1]",
      "",
      "Stacktrace:",
      " [1] getindex(A::Vector{SubString{String}}, i1::Int64)",
      "   @ Base ./array.jl:805",
      " [2] top-level scope",
      "   @ ./In[105]:4",
      " [3] eval",
      "   @ ./boot.jl:360 [inlined]",
      " [4] include_string(mapexpr::typeof(REPL.softscope), mod::Module, code::String, filename::String)",
      "   @ Base ./loading.jl:1116"
     ]
    }
   ],
   "source": [
    "x=\"\"\n",
    "x=split(x)\n",
    "iter=x\n",
    "for i in 1:length(x[1])\n",
    "    z=0\n",
    "    print(\"\\n Iteracja\", i, \"\\n\")\n",
    "    if length(iter)==1\n",
    "        print(iter)\n",
    "        break\n",
    "    end\n",
    "    for j in 1:length(iter)\n",
    "        z+=parse(Int64,iter[j][i])\n",
    "    end\n",
    "    if z>=length(iter)/2\n",
    "            #print(1, \"\\n\")\n",
    "            new_iter=[]\n",
    "            for k in 1:length(iter)\n",
    "                if parse(Int64, iter[k][i])==1\n",
    "                    push!(new_iter, iter[k])\n",
    "                end\n",
    "        end\n",
    "    else \n",
    "       # print(0, \"\\n\")\n",
    "        new_iter=[]\n",
    "        for k in 1:length(iter)\n",
    "                if parse(Int64, iter[k][i])==0\n",
    "                    push!(new_iter, iter[k])\n",
    "                end\n",
    "        end\n",
    "    end\n",
    "    iter=new_iter\n",
    "end\n",
    "print(iter)\n",
    "\n",
    "\n",
    "iter=x\n",
    "for i in 1:length(x[1])\n",
    "    z=0\n",
    "    print(\"\\n Iteracja\", i, \"\\n\")\n",
    "    if length(iter)==1\n",
    "        print(iter)\n",
    "        break\n",
    "    end\n",
    "    for j in 1:length(iter)\n",
    "        z+=parse(Int64,iter[j][i])\n",
    "    end\n",
    "    if z<length(iter)/2\n",
    "            #print(1, \"\\n\")\n",
    "            new_iter=[]\n",
    "            for k in 1:length(iter)\n",
    "                if parse(Int64, iter[k][i])==1\n",
    "                    push!(new_iter, iter[k])\n",
    "                end\n",
    "        end\n",
    "    else \n",
    "       # print(0, \"\\n\")\n",
    "        new_iter=[]\n",
    "        for k in 1:length(iter)\n",
    "                if parse(Int64, iter[k][i])==0\n",
    "                    push!(new_iter, iter[k])\n",
    "                end\n",
    "        end\n",
    "    end\n",
    "    iter=new_iter\n",
    "end\n",
    "print(iter)\n",
    "            \n",
    "    \n",
    "        \n",
    "        \n",
    "    \n",
    "    \n",
    "    \n",
    "        \n",
    "        \n",
    "    \n",
    "    "
   ]
  },
  {
   "cell_type": "code",
   "execution_count": 66,
   "id": "5e324ffb",
   "metadata": {},
   "outputs": [
    {
     "name": "stdout",
     "output_type": "stream",
     "text": [
      "Any[3]"
     ]
    },
    {
     "data": {
      "text/plain": [
       "true"
      ]
     },
     "execution_count": 66,
     "metadata": {},
     "output_type": "execute_result"
    }
   ],
   "source": [
    "a=[]\n",
    "b=[3]\n",
    "append!(a,b[1])\n",
    "print(a)\n",
    "a[1]==3\n"
   ]
  }
 ],
 "metadata": {
  "kernelspec": {
   "display_name": "Julia 1.6.5",
   "language": "julia",
   "name": "julia-1.6"
  },
  "language_info": {
   "file_extension": ".jl",
   "mimetype": "application/julia",
   "name": "julia",
   "version": "1.6.5"
  }
 },
 "nbformat": 4,
 "nbformat_minor": 5
}
