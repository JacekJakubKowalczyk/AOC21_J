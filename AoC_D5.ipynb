{
 "cells": [
  {
   "cell_type": "code",
   "execution_count": 1,
   "id": "0dc4d2a8",
   "metadata": {},
   "outputs": [
    {
     "ename": "LoadError",
     "evalue": "BoundsError: attempt to access empty SubString{String} at index [1]",
     "output_type": "error",
     "traceback": [
      "BoundsError: attempt to access empty SubString{String} at index [1]",
      "",
      "Stacktrace:",
      " [1] checkbounds",
      "   @ ./strings/basic.jl:216 [inlined]",
      " [2] getindex(s::SubString{String}, i::Int64)",
      "   @ Base ./strings/substring.jl:83",
      " [3] top-level scope",
      "   @ ./In[1]:5",
      " [4] eval",
      "   @ ./boot.jl:360 [inlined]",
      " [5] include_string(mapexpr::typeof(REPL.softscope), mod::Module, code::String, filename::String)",
      "   @ Base ./loading.jl:1116"
     ]
    }
   ],
   "source": [
    "x=\"\"\n",
    "xd=split(x, r\",| |\\n\")\n",
    "x_new=[]\n",
    "for i in 1:size(xd)[1]\n",
    "    if xd[i][1]==xd[3][1]\n",
    "    else\n",
    "        append!(x_new,parse(Int64,xd[i]))\n",
    "    end\n",
    "end\n",
    "x=x_new\n",
    "function swap(a,b)\n",
    "    a=a+b\n",
    "    b=a-b\n",
    "    a=a-b\n",
    "    return(a,b)\n",
    "end\n",
    "\n"
   ]
  },
  {
   "cell_type": "code",
   "execution_count": 2,
   "id": "94acf7f0",
   "metadata": {},
   "outputs": [
    {
     "name": "stdout",
     "output_type": "stream",
     "text": [
      "0 \n"
     ]
    }
   ],
   "source": [
    "map=zeros(Int64,1000,1000)\n",
    "i=1\n",
    "while i<length(x)\n",
    "    if x[i]==x[i+2]\n",
    "        a=x[i+1]\n",
    "        b=x[i+3]\n",
    "        if a>b\n",
    "            a,b=swap(a,b)\n",
    "        end\n",
    "        for j in a:b\n",
    "            map[x[i],j]+=1\n",
    "        end\n",
    "    elseif x[i+1]==x[i+3]\n",
    "        a=x[i]\n",
    "        b=x[i+2]\n",
    "        if a>b\n",
    "            a,b=swap(a,b)\n",
    "        end\n",
    "        for j in a:b\n",
    "            map[j, x[i+1]]+=1\n",
    "        end\n",
    "    else\n",
    "        a=x[i]\n",
    "        b=x[i+2]\n",
    "        c=x[i+1]\n",
    "        d=x[i+3]\n",
    "        if a>b\n",
    "            a,b=swap(a,b)\n",
    "        end\n",
    "        if c>d\n",
    "            c,d=swap(c,d)\n",
    "        end\n",
    "        diff=d-c\n",
    "        for j in 1:diff\n",
    "            map[a+j-1,c+j-1]+=1\n",
    "        end\n",
    "   \n",
    "    end\n",
    "    i+=4\n",
    "end\n",
    "counter=0\n",
    "for i in 1:1000\n",
    "    for j in 1:1000\n",
    "        if map[i,j]>1\n",
    "            counter+=1\n",
    "        end\n",
    "    end\n",
    "end\n",
    "print(counter,\" \\n\")\n",
    "\n",
    "    "
   ]
  },
  {
   "cell_type": "code",
   "execution_count": null,
   "id": "85b1e3a0",
   "metadata": {},
   "outputs": [],
   "source": [
    "\n"
   ]
  }
 ],
 "metadata": {
  "kernelspec": {
   "display_name": "Julia 1.6.5",
   "language": "julia",
   "name": "julia-1.6"
  },
  "language_info": {
   "file_extension": ".jl",
   "mimetype": "application/julia",
   "name": "julia",
   "version": "1.6.5"
  }
 },
 "nbformat": 4,
 "nbformat_minor": 5
}
