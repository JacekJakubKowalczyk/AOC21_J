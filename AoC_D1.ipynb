{
 "cells": [
  {
   "cell_type": "code",
   "execution_count": 28,
   "id": "8a35a62a",
   "metadata": {},
   "outputs": [
    {
     "name": "stdout",
     "output_type": "stream",
     "text": [
      "1713"
     ]
    }
   ],
   "source": [
    "#part1\n",
    "a=0\n",
    "for i in 1:(length(x)-3)\n",
    "    if x[i+1]>x[i]\n",
    "        a+=1\n",
    "    end\n",
    "end \n",
    "print(a)"
   ]
  },
  {
   "cell_type": "code",
   "execution_count": 29,
   "id": "a76cdadb",
   "metadata": {},
   "outputs": [
    {
     "name": "stdout",
     "output_type": "stream",
     "text": [
      "1739"
     ]
    }
   ],
   "source": [
    "#part2\n",
    "a=0\n",
    "for i in 1:(length(x)-3)\n",
    "    if (x[i+2]+x[i+1]+x[i])<(x[i+3]+x[i+2]+x[i+1])\n",
    "        a+=1\n",
    "    end\n",
    "end \n",
    "print(a)"
   ]
  },
  {
   "cell_type": "code",
   "execution_count": 31,
   "id": "061a99f8",
   "metadata": {},
   "outputs": [
    {
     "ename": "LoadError",
     "evalue": "HTTP/1.1 400 Bad Request while requesting https://adventofcode.com/2021/day/1/input",
     "output_type": "error",
     "traceback": [
      "HTTP/1.1 400 Bad Request while requesting https://adventofcode.com/2021/day/1/input",
      "",
      "Stacktrace:",
      "  [1] (::Downloads.var\"#3#4\"{Nothing, Vector{Pair{String, String}}, Float64, Nothing, Bool, Nothing, String})(output::IOStream)",
      "    @ Downloads /Users/julia/buildbot/worker/package_macos64/build/usr/share/julia/stdlib/v1.6/Downloads/src/Downloads.jl:233",
      "  [2] arg_write(f::Downloads.var\"#3#4\"{Nothing, Vector{Pair{String, String}}, Float64, Nothing, Bool, Nothing, String}, arg::Nothing)",
      "    @ ArgTools /Users/julia/buildbot/worker/package_macos64/build/usr/share/julia/stdlib/v1.6/ArgTools/src/ArgTools.jl:101",
      "  [3] #download#2",
      "    @ /Users/julia/buildbot/worker/package_macos64/build/usr/share/julia/stdlib/v1.6/Downloads/src/Downloads.jl:221 [inlined]",
      "  [4] download(url::String, output::Nothing)",
      "    @ Downloads /Users/julia/buildbot/worker/package_macos64/build/usr/share/julia/stdlib/v1.6/Downloads/src/Downloads.jl:221",
      "  [5] #invokelatest#2",
      "    @ ./essentials.jl:708 [inlined]",
      "  [6] invokelatest",
      "    @ ./essentials.jl:706 [inlined]",
      "  [7] do_download",
      "    @ ./download.jl:33 [inlined]",
      "  [8] download(url::String)",
      "    @ Base ./download.jl:29",
      "  [9] top-level scope",
      "    @ In[31]:1",
      " [10] eval",
      "    @ ./boot.jl:360 [inlined]",
      " [11] include_string(mapexpr::typeof(REPL.softscope), mod::Module, code::String, filename::String)",
      "    @ Base ./loading.jl:1116"
     ]
    }
   ],
   "source": [
    "xd=download(\"https://adventofcode.com/2021/day/1/input\")"
   ]
  }
 ],
 "metadata": {
  "kernelspec": {
   "display_name": "Julia 1.6.5",
   "language": "julia",
   "name": "julia-1.6"
  },
  "language_info": {
   "file_extension": ".jl",
   "mimetype": "application/julia",
   "name": "julia",
   "version": "1.6.5"
  }
 },
 "nbformat": 4,
 "nbformat_minor": 5
}
